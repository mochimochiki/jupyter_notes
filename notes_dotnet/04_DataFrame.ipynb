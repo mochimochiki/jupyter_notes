{
 "cells": [
  {
   "cell_type": "markdown",
   "metadata": {},
   "source": [
    "# Data frame\n",
    "\n",
    "`Microsoft.Data.Analysis`を使えばデータフレームが扱えるようになる。"
   ]
  },
  {
   "cell_type": "code",
   "execution_count": 18,
   "metadata": {},
   "outputs": [
    {
     "data": {
      "text/html": [
       "Installing package Microsoft.Data.Analysis, version 0.1.0.done!"
      ]
     },
     "metadata": {},
     "output_type": "display_data"
    },
    {
     "data": {
      "text/html": [
       "Successfully added reference to package Microsoft.Data.Analysis, version "
      ]
     },
     "metadata": {},
     "output_type": "display_data"
    }
   ],
   "source": [
    "#r \"nuget:Microsoft.Data.Analysis,0.1.0\"\n",
    "using Microsoft.Data.Analysis;"
   ]
  },
  {
   "cell_type": "markdown",
   "metadata": {},
   "source": [
    "## データフレームの作成\n",
    "\n",
    "`PrivitiveDataFrameColumn<T>`で型を指定してデータフレームの列を生成できる。第2引数に長さを指定するとnullで埋められる。"
   ]
  },
  {
   "cell_type": "code",
   "execution_count": 65,
   "metadata": {},
   "outputs": [],
   "source": [
    "// DateTime型の列 \"DateTimes\" を生成。長さ指定しなければ行数0で列だけが出来る。\n",
    "var dateTimes = new PrimitiveDataFrameColumn<DateTime>(\"DateTimes\");\n",
    "\n",
    "// int型の列 \"Ints\" を長さ3で生成。行はnullで埋められる。\n",
    "var ints = new PrimitiveDataFrameColumn<int>(\"Ints\", 3);\n",
    "\n",
    "// string型の列 \"Strings\" を長さ3で生成。行はnullで埋められる。\n",
    "var strings = new StringDataFrameColumn(\"Strings\", 3); "
   ]
  },
  {
   "cell_type": "code",
   "execution_count": 66,
   "metadata": {},
   "outputs": [],
   "source": [
    "// dateTimesに2つ値を入れる\n",
    "dateTimes.Append(DateTime.Parse(\"2019/01/01\"));\n",
    "dateTimes.Append(DateTime.Parse(\"2019/01/01\"));"
   ]
  },
  {
   "cell_type": "code",
   "execution_count": 67,
   "metadata": {},
   "outputs": [
    {
     "ename": "Unhandled Exception",
     "evalue": "Column lengths are mismatched (Parameter 'column')",
     "output_type": "error",
     "traceback": [
      "Unhandled Exception",
      "Column lengths are mismatched (Parameter 'column')",
      "   at Microsoft.Data.Analysis.DataFrameColumnCollection.InsertItem(Int32 columnIndex, DataFrameColumn column)",
      "   at Microsoft.Data.Analysis.DataFrameColumnCollection..ctor(IList`1 columns, Action columnsChanged)",
      "   at Microsoft.Data.Analysis.DataFrame..ctor(IList`1 columns)",
      "   at Submission#68.<<Initialize>>d__0.MoveNext()",
      "--- End of stack trace from previous location where exception was thrown ---",
      "   at Microsoft.CodeAnalysis.Scripting.ScriptExecutionState.RunSubmissionsAsync[TResult](ImmutableArray`1 precedingExecutors, Func`2 currentExecutor, StrongBox`1 exceptionHolderOpt, Func`2 catchExceptionOpt, CancellationToken cancellationToken)"
     ]
    }
   ],
   "source": [
    "// 行数が合わない（dateTimesが2つしかない）ので例外が発生\n",
    "DataFrame df = new DataFrame(new List<DataFrameColumn> { dateTimes, ints, strings });"
   ]
  },
  {
   "cell_type": "code",
   "execution_count": 68,
   "metadata": {},
   "outputs": [],
   "source": [
    "// 行数を合わせたらDataFrameを生成出来る。\n",
    "dateTimes.Append(DateTime.Parse(\"2019/01/01\"));\n",
    "\n",
    "DataFrame df = new DataFrame(new List<DataFrameColumn> { dateTimes, ints, strings});"
   ]
  },
  {
   "cell_type": "code",
   "execution_count": 69,
   "metadata": {},
   "outputs": [
    {
     "data": {
      "text/html": [
       "<table><thead><th><i>index</i></th><th>DateTimes</th><th>Ints</th><th>Strings</th></thead><tbody><tr><td>0</td><td>2019-01-01 00:00:00Z</td><td>&lt;null&gt;</td><td>&lt;null&gt;</td></tr><tr><td>1</td><td>2019-01-01 00:00:00Z</td><td>&lt;null&gt;</td><td>&lt;null&gt;</td></tr><tr><td>2</td><td>2019-01-01 00:00:00Z</td><td>&lt;null&gt;</td><td>&lt;null&gt;</td></tr></tbody></table>"
      ]
     },
     "execution_count": 69,
     "metadata": {},
     "output_type": "execute_result"
    }
   ],
   "source": [
    "df"
   ]
  },
  {
   "cell_type": "markdown",
   "metadata": {},
   "source": [
    "## データフレームへの値の代入\n",
    "\n",
    "dfの行,列指定や列のインデックス指定で直接変更出来る。"
   ]
  },
  {
   "cell_type": "code",
   "execution_count": 92,
   "metadata": {},
   "outputs": [
    {
     "data": {
      "text/html": [
       "<table><thead><th><i>index</i></th><th>DateTimes</th><th>Ints</th><th>Strings</th></thead><tbody><tr><td>0</td><td>2019-01-01 00:00:00Z</td><td>10</td><td>&lt;null&gt;</td></tr><tr><td>1</td><td>2019-01-01 00:00:00Z</td><td>125</td><td>Foo!</td></tr><tr><td>2</td><td>2019-01-01 00:00:00Z</td><td>&lt;null&gt;</td><td>&lt;null&gt;</td></tr></tbody></table>"
      ]
     },
     "execution_count": 92,
     "metadata": {},
     "output_type": "execute_result"
    }
   ],
   "source": [
    "df[0, 1] = 10; // 0行1列に10を代入\n",
    "df"
   ]
  },
  {
   "cell_type": "code",
   "execution_count": 93,
   "metadata": {},
   "outputs": [
    {
     "data": {
      "text/html": [
       "<table><thead><th><i>index</i></th><th>DateTimes</th><th>Ints</th><th>Strings</th></thead><tbody><tr><td>0</td><td>2019-01-01 00:00:00Z</td><td>10</td><td>&lt;null&gt;</td></tr><tr><td>1</td><td>2019-01-01 00:00:00Z</td><td>100</td><td>Foo!</td></tr><tr><td>2</td><td>2019-01-01 00:00:00Z</td><td>&lt;null&gt;</td><td>&lt;null&gt;</td></tr></tbody></table>"
      ]
     },
     "execution_count": 93,
     "metadata": {},
     "output_type": "execute_result"
    }
   ],
   "source": [
    "ints[1] = 100; // ints列の行1に100を代入\n",
    "strings[1] = \"Foo!\"; // strings列の行1に\"Foo!\"を代入\n",
    "df"
   ]
  },
  {
   "cell_type": "code",
   "execution_count": 94,
   "metadata": {},
   "outputs": [
    {
     "data": {
      "text/html": [
       "<span><a href=\"https://docs.microsoft.com/dotnet/api/System.Int32?view=netcore-3.0\">System.Int32</a></span>"
      ]
     },
     "execution_count": 94,
     "metadata": {},
     "output_type": "execute_result"
    }
   ],
   "source": [
    "// 型が合わない場合は例外\n",
    "//ints[1] = \"this will throw because I am a string\";  \n",
    "\n",
    "// intsのデータ型を確認\n",
    "ints.DataType"
   ]
  },
  {
   "cell_type": "markdown",
   "metadata": {},
   "source": [
    "ints列全体に5を足す（nullの列はそのまま）"
   ]
  },
  {
   "cell_type": "code",
   "execution_count": 96,
   "metadata": {},
   "outputs": [
    {
     "data": {
      "text/html": [
       "<table><thead><th><i>index</i></th><th>DateTimes</th><th>Ints</th><th>Strings</th></thead><tbody><tr><td>0</td><td>2019-01-01 00:00:00Z</td><td>20</td><td>&lt;null&gt;</td></tr><tr><td>1</td><td>2019-01-01 00:00:00Z</td><td>110</td><td>Foo!</td></tr><tr><td>2</td><td>2019-01-01 00:00:00Z</td><td>&lt;null&gt;</td><td>&lt;null&gt;</td></tr></tbody></table>"
      ]
     },
     "execution_count": 96,
     "metadata": {},
     "output_type": "execute_result"
    }
   ],
   "source": [
    "df[\"Ints\"].Add(5, inPlace: true);\n",
    "df"
   ]
  },
  {
   "cell_type": "markdown",
   "metadata": {},
   "source": [
    "列に対してオペレータで演算することが出来る。"
   ]
  },
  {
   "cell_type": "code",
   "execution_count": 99,
   "metadata": {},
   "outputs": [
    {
     "data": {
      "text/html": [
       "<table><thead><th><i>index</i></th><th>DateTimes</th><th>Ints</th><th>Strings</th></thead><tbody><tr><td>0</td><td>2019-01-01 00:00:00Z</td><td>400</td><td>&lt;null&gt;</td></tr><tr><td>1</td><td>2019-01-01 00:00:00Z</td><td>2200</td><td>Foo!</td></tr><tr><td>2</td><td>2019-01-01 00:00:00Z</td><td>&lt;null&gt;</td><td>&lt;null&gt;</td></tr></tbody></table>"
      ]
     },
     "execution_count": 99,
     "metadata": {},
     "output_type": "execute_result"
    }
   ],
   "source": [
    "df[\"Ints\"] = (ints / 5) * 100;\n",
    "df"
   ]
  },
  {
   "cell_type": "markdown",
   "metadata": {},
   "source": [
    "FillNullsで値を指定すると、null値のセルが指定した値で埋められる。"
   ]
  },
  {
   "cell_type": "code",
   "execution_count": 102,
   "metadata": {},
   "outputs": [
    {
     "data": {
      "text/html": [
       "<table><thead><th><i>index</i></th><th>DateTimes</th><th>Ints</th><th>Strings</th></thead><tbody><tr><td>0</td><td>2019-01-01 00:00:00Z</td><td>400</td><td>Bar</td></tr><tr><td>1</td><td>2019-01-01 00:00:00Z</td><td>2200</td><td>Foo!</td></tr><tr><td>2</td><td>2019-01-01 00:00:00Z</td><td>-1</td><td>Bar</td></tr></tbody></table>"
      ]
     },
     "execution_count": 102,
     "metadata": {},
     "output_type": "execute_result"
    }
   ],
   "source": [
    "df[\"Ints\"].FillNulls(-1, inPlace: true);\n",
    "df[\"Strings\"].FillNulls(\"Bar\", inPlace: true);\n",
    "df"
   ]
  },
  {
   "cell_type": "markdown",
   "metadata": {},
   "source": [
    "## データフレームへの操作\n",
    "\n",
    "1行目のデータを取り出してみる"
   ]
  },
  {
   "cell_type": "code",
   "execution_count": 104,
   "metadata": {},
   "outputs": [
    {
     "data": {
      "text/html": [
       "<table><thead><tr><th><i>index</i></th><th>Date</th><th>Day</th><th>DayOfWeek</th><th>DayOfYear</th><th>Hour</th><th>Kind</th><th>Millisecond</th><th>Minute</th><th>Month</th><th>Second</th><th>Ticks</th><th>TimeOfDay</th><th>Year</th></tr></thead><tbody><tr><td>0</td><td>2019-01-01 00:00:00Z</td><td>1</td><td>{ System.DayOfWeek: value__: 2 }</td><td>1</td><td>0</td><td>{ System.DateTimeKind: value__: 0 }</td><td>0</td><td>0</td><td>1</td><td>0</td><td>636818976000000000</td><td>{ System.TimeSpan: Ticks: 0, Days: 0, Hours: 0, Milliseconds: 0, Minutes: 0, Seconds: 0, TotalDays: 0, TotalHours: 0, TotalMilliseconds: 0, TotalMinutes: 0, TotalSeconds: 0 }</td><td>2019</td></tr><tr><td>1</td><td>400</td></tr><tr><td>2</td><td>Bar</td></tr></tbody></table>"
      ]
     },
     "execution_count": 104,
     "metadata": {},
     "output_type": "execute_result"
    }
   ],
   "source": [
    "IList<object> row0 = df[0];\n",
    "row0"
   ]
  },
  {
   "cell_type": "markdown",
   "metadata": {},
   "source": [
    "`Filter`でFoo!以外の行をフィルタリング"
   ]
  },
  {
   "cell_type": "code",
   "execution_count": 109,
   "metadata": {},
   "outputs": [
    {
     "data": {
      "text/html": [
       "<table><thead><th><i>index</i></th><th>DateTimes</th><th>Ints</th><th>Strings</th></thead><tbody><tr><td>0</td><td>2019-01-01 00:00:00Z</td><td>400</td><td>Bar</td></tr><tr><td>1</td><td>2019-01-01 00:00:00Z</td><td>-1</td><td>Bar</td></tr></tbody></table>"
      ]
     },
     "execution_count": 109,
     "metadata": {},
     "output_type": "execute_result"
    }
   ],
   "source": [
    "DataFrame filtered = df.Filter(strings.ElementwiseNotEquals(\"Foo!\"));\n",
    "filtered"
   ]
  },
  {
   "cell_type": "markdown",
   "metadata": {},
   "source": [
    "`Sort`でInts列の昇順ソート"
   ]
  },
  {
   "cell_type": "code",
   "execution_count": 110,
   "metadata": {},
   "outputs": [
    {
     "data": {
      "text/html": [
       "<table><thead><th><i>index</i></th><th>DateTimes</th><th>Ints</th><th>Strings</th></thead><tbody><tr><td>0</td><td>2019-01-01 00:00:00Z</td><td>-1</td><td>Bar</td></tr><tr><td>1</td><td>2019-01-01 00:00:00Z</td><td>400</td><td>Bar</td></tr><tr><td>2</td><td>2019-01-01 00:00:00Z</td><td>2200</td><td>Foo!</td></tr></tbody></table>"
      ]
     },
     "execution_count": 110,
     "metadata": {},
     "output_type": "execute_result"
    }
   ],
   "source": [
    "DataFrame sorted = df.Sort(\"Ints\", ascending: true);\n",
    "sorted"
   ]
  },
  {
   "cell_type": "code",
   "execution_count": null,
   "metadata": {},
   "outputs": [],
   "source": [
    "Group"
   ]
  },
  {
   "cell_type": "code",
   "execution_count": 112,
   "metadata": {},
   "outputs": [
    {
     "data": {
      "text/html": [
       "<table><thead><th><i>index</i></th><th>DateTimes</th><th>Ints</th><th>Strings</th></thead><tbody><tr><td>0</td><td>2019-01-01 00:00:00Z</td><td>3</td><td>3</td></tr></tbody></table>"
      ]
     },
     "execution_count": 112,
     "metadata": {},
     "output_type": "execute_result"
    }
   ],
   "source": [
    "GroupBy groupBy = df.GroupBy(\"DateTimes\");\n",
    "// Count of values in each group\n",
    "DataFrame grouped = groupBy.Count();\n",
    "grouped"
   ]
  },
  {
   "cell_type": "code",
   "execution_count": null,
   "metadata": {},
   "outputs": [],
   "source": []
  }
 ],
 "metadata": {
  "kernelspec": {
   "display_name": ".NET (C#)",
   "language": "C#",
   "name": ".net-csharp"
  },
  "language_info": {
   "file_extension": ".cs",
   "mimetype": "text/x-csharp",
   "name": "C#",
   "pygments_lexer": "csharp",
   "version": "8.0"
  }
 },
 "nbformat": 4,
 "nbformat_minor": 4
}

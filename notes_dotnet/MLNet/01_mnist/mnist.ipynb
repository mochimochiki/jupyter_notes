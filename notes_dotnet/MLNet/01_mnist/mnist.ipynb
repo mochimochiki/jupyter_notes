{
 "cells": [
  {
   "cell_type": "markdown",
   "metadata": {},
   "source": [
    "# mnist\n",
    "\n",
    "[dotnet/machinelearning-samples](https://github.com/dotnet/machinelearning-samples/tree/master/samples/csharp/getting-started/MulticlassClassification_MNIST)を参考にmnistをML.NETでやってみる。"
   ]
  },
  {
   "cell_type": "code",
   "execution_count": 1,
   "metadata": {},
   "outputs": [
    {
     "data": {
      "text/html": [
       "Installing package Microsoft.ML.Vision, version 1.4.0......done!"
      ]
     },
     "metadata": {},
     "output_type": "display_data"
    },
    {
     "data": {
      "text/html": [
       "Successfully added reference to package Microsoft.ML.Vision, version 1.4.0"
      ]
     },
     "metadata": {},
     "output_type": "display_data"
    }
   ],
   "source": [
    "#r \"nuget:Microsoft.ML.Vision, 1.4.0\""
   ]
  },
  {
   "cell_type": "code",
   "execution_count": 18,
   "metadata": {},
   "outputs": [],
   "source": [
    "using Microsoft.ML;\n",
    "using Microsoft.ML.Data;\n",
    "using System;\n",
    "using System.Net;\n",
    "using System.IO;\n",
    "using System.IO.Compression;\n",
    "using Microsoft.ML.Transforms;"
   ]
  },
  {
   "cell_type": "markdown",
   "metadata": {},
   "source": [
    "## データの準備\n",
    "\n",
    "### ダウンロード\n",
    "\n",
    "`System.Net.WebClient`を使ってMNISTデータをダウンロードする。"
   ]
  },
  {
   "cell_type": "code",
   "execution_count": 91,
   "metadata": {},
   "outputs": [],
   "source": [
    "var urlBase = \"http://archive.ics.uci.edu/ml/machine-learning-databases/optdigits/\";\n",
    "var downloadDirectory = \"./data/\";\n",
    "var mnistFiles = new List<string>(){\"optdigits.tra\", \"optdigits.tes\"};\n",
    "\n",
    "using(var wc = new WebClient())\n",
    "{\n",
    "    foreach(var one in mnistFiles)\n",
    "    {\n",
    "        var url = urlBase + one;\n",
    "        var downloadPath = downloadDirectory + one;\n",
    "        wc.DownloadFile(url, downloadPath);  \n",
    "    }\n",
    "}"
   ]
  },
  {
   "cell_type": "markdown",
   "metadata": {},
   "source": [
    "### データクラスの定義"
   ]
  },
  {
   "cell_type": "code",
   "execution_count": 92,
   "metadata": {},
   "outputs": [
    {
     "data": {
      "text/plain": [
       "[InputData]"
      ]
     },
     "metadata": {},
     "output_type": "display_data"
    },
    {
     "data": {
      "text/html": [
       "<table><thead><tr><th>PixelValues</th><th>Number</th></tr></thead><tbody><tr><td>&lt;null&gt;</td><td>0</td></tr></tbody></table>"
      ]
     },
     "metadata": {},
     "output_type": "display_data"
    },
    {
     "data": {
      "text/plain": [
       "[OutPutData]"
      ]
     },
     "metadata": {},
     "output_type": "display_data"
    },
    {
     "data": {
      "text/html": [
       "<table><thead><tr><th>Score</th></tr></thead><tbody><tr><td>&lt;null&gt;</td></tr></tbody></table>"
      ]
     },
     "metadata": {},
     "output_type": "display_data"
    }
   ],
   "source": [
    "// Input\n",
    "class InputData\n",
    "{\n",
    "    [ColumnName(\"PixelValues\")]\n",
    "    [VectorType(64)]\n",
    "    public float[] PixelValues;\n",
    "\n",
    "    [LoadColumn(64)]\n",
    "    public float Number;\n",
    "}\n",
    "// Output\n",
    "class OutPutData\n",
    "{\n",
    "    [ColumnName(\"Score\")]\n",
    "    public float[] Score;\n",
    "}\n",
    "\n",
    "display(\"[InputData]\");\n",
    "display(new InputData());\n",
    "display(\"[OutPutData]\");\n",
    "display(new OutPutData());"
   ]
  },
  {
   "cell_type": "markdown",
   "metadata": {},
   "source": [
    "`IDataView`にデータをロードする。`IDataView`はLINQでいうところの`IEnumerable<T>`に相当する、ML.NETのデータの中心となる存在。 [参考](https://docs.microsoft.com/en-us/dotnet/api/microsoft.ml.idataview?view=ml-dotnet)\n",
    "\n",
    "データは65の列をもつ。1-64列はそれぞれ、32x32のビットマップを4x4のブロックによって64個（8x8）に分割したうちの1つを示し、0-16の整数値を持つ。この整数値は各4x4ブロックのうちONのピクセルの数を示す。65列目はラベル（0-9の数字）である。"
   ]
  },
  {
   "cell_type": "code",
   "execution_count": 139,
   "metadata": {},
   "outputs": [
    {
     "data": {
      "text/plain": [
       "[TrainData]"
      ]
     },
     "metadata": {},
     "output_type": "display_data"
    },
    {
     "data": {
      "text/html": [
       "<table><thead><tr><th><i>index</i></th><th>PixelValues</th><th>Number</th></tr></thead><tbody><tr><td>0</td><td>[ 0, 1, 6, 15, 12, 1, 0, 0, 0, 7 ... (54 more) ]</td><td>0</td></tr><tr><td>1</td><td>[ 0, 0, 10, 16, 6, 0, 0, 0, 0, 7 ... (54 more) ]</td><td>0</td></tr><tr><td>2</td><td>[ 0, 0, 8, 15, 16, 13, 0, 0, 0, 1 ... (54 more) ]</td><td>7</td></tr><tr><td>3</td><td>[ 0, 0, 0, 3, 11, 16, 0, 0, 0, 0 ... (54 more) ]</td><td>4</td></tr><tr><td>4</td><td>[ 0, 0, 5, 14, 4, 0, 0, 0, 0, 0 ... (54 more) ]</td><td>6</td></tr></tbody></table>"
      ]
     },
     "metadata": {},
     "output_type": "display_data"
    },
    {
     "data": {
      "text/plain": [
       "[TestData]"
      ]
     },
     "metadata": {},
     "output_type": "display_data"
    },
    {
     "data": {
      "text/html": [
       "<table><thead><tr><th><i>index</i></th><th>PixelValues</th><th>Number</th></tr></thead><tbody><tr><td>0</td><td>[ 0, 0, 5, 13, 9, 1, 0, 0, 0, 0 ... (54 more) ]</td><td>0</td></tr><tr><td>1</td><td>[ 0, 0, 0, 12, 13, 5, 0, 0, 0, 0 ... (54 more) ]</td><td>1</td></tr><tr><td>2</td><td>[ 0, 0, 0, 4, 15, 12, 0, 0, 0, 0 ... (54 more) ]</td><td>2</td></tr><tr><td>3</td><td>[ 0, 0, 7, 15, 13, 1, 0, 0, 0, 8 ... (54 more) ]</td><td>3</td></tr><tr><td>4</td><td>[ 0, 0, 0, 1, 11, 0, 0, 0, 0, 0 ... (54 more) ]</td><td>4</td></tr></tbody></table>"
      ]
     },
     "metadata": {},
     "output_type": "display_data"
    }
   ],
   "source": [
    "MLContext mlContext = new MLContext();\n",
    "\n",
    "var projectDir = Path.GetFullPath(Environment.CurrentDirectory);\n",
    "var trainDataPath = Path.Combine(projectDir,\"data\", \"optdigits.tra\");\n",
    "var testDataPath = Path.Combine(projectDir,\"data\", \"optdigits.tes\");\n",
    "\n",
    "// 訓練データのロード\n",
    "IDataView trainData = mlContext.Data.LoadFromTextFile(\n",
    "    path: trainDataPath,\n",
    "    columns : new[]\n",
    "    {\n",
    "        new TextLoader.Column(nameof(InputData.PixelValues), DataKind.Single, 0, 63), //データの0-63列は4x4ブロックのONピクセルの数\n",
    "        new TextLoader.Column(nameof(InputData.Number), DataKind.Single, 64) //64列は数値\n",
    "    },\n",
    "    hasHeader : false,\n",
    "    separatorChar : ','\n",
    "    );\n",
    "\n",
    "// テストデータのロード\n",
    "IDataView testData = mlContext.Data.LoadFromTextFile(\n",
    "    path: testDataPath,\n",
    "    columns: new[]\n",
    "    {\n",
    "        new TextLoader.Column(nameof(InputData.PixelValues), DataKind.Single, 0, 63),\n",
    "        new TextLoader.Column(nameof(InputData.Number), DataKind.Single, 64)\n",
    "    },\n",
    "    hasHeader: false,\n",
    "    separatorChar: ','\n",
    "    );\n",
    "\n",
    "var trainList = mlContext.Data.CreateEnumerable<InputData>(trainData, reuseRowObject:false);\n",
    "var testList = mlContext.Data.CreateEnumerable<InputData>(testData, reuseRowObject:false);\n",
    "display(\"[TrainData]\");\n",
    "display(trainList.Take(5));\n",
    "display(\"[TestData]\");\n",
    "display(testList.Take(5));"
   ]
  },
  {
   "cell_type": "code",
   "execution_count": 135,
   "metadata": {},
   "outputs": [
    {
     "data": {
      "text/html": [
       "<table><thead><tr><th><i>index</i></th><th>value</th></tr></thead><tbody><tr><td>0</td><td>0</td></tr><tr><td>1</td><td>1</td></tr><tr><td>2</td><td>6</td></tr><tr><td>3</td><td>15</td></tr><tr><td>4</td><td>12</td></tr><tr><td>5</td><td>1</td></tr><tr><td>6</td><td>0</td></tr><tr><td>7</td><td>0</td></tr><tr><td>8</td><td>0</td></tr><tr><td>9</td><td>7</td></tr><tr><td>10</td><td>16</td></tr><tr><td>11</td><td>6</td></tr><tr><td>12</td><td>6</td></tr><tr><td>13</td><td>10</td></tr><tr><td>14</td><td>0</td></tr><tr><td>15</td><td>0</td></tr><tr><td>16</td><td>0</td></tr><tr><td>17</td><td>8</td></tr><tr><td>18</td><td>16</td></tr><tr><td>19</td><td>2</td></tr><tr><td>20</td><td>0</td></tr><tr><td>21</td><td>11</td></tr><tr><td>22</td><td>2</td></tr><tr><td>23</td><td>0</td></tr><tr><td>24</td><td>0</td></tr><tr><td>25</td><td>5</td></tr><tr><td>26</td><td>16</td></tr><tr><td>27</td><td>3</td></tr><tr><td>28</td><td>0</td></tr><tr><td>29</td><td>5</td></tr><tr><td>30</td><td>7</td></tr><tr><td>31</td><td>0</td></tr><tr><td>32</td><td>0</td></tr><tr><td>33</td><td>7</td></tr><tr><td>34</td><td>13</td></tr><tr><td>35</td><td>3</td></tr><tr><td>36</td><td>0</td></tr><tr><td>37</td><td>8</td></tr><tr><td>38</td><td>7</td></tr><tr><td>39</td><td>0</td></tr><tr><td>40</td><td>0</td></tr><tr><td>41</td><td>4</td></tr><tr><td>42</td><td>12</td></tr><tr><td>43</td><td>0</td></tr><tr><td>44</td><td>1</td></tr><tr><td>45</td><td>13</td></tr><tr><td>46</td><td>5</td></tr><tr><td>47</td><td>0</td></tr><tr><td>48</td><td>0</td></tr><tr><td>49</td><td>0</td></tr><tr><td>50</td><td>14</td></tr><tr><td>51</td><td>9</td></tr><tr><td>52</td><td>15</td></tr><tr><td>53</td><td>9</td></tr><tr><td>54</td><td>0</td></tr><tr><td>55</td><td>0</td></tr><tr><td>56</td><td>0</td></tr><tr><td>57</td><td>0</td></tr><tr><td>58</td><td>6</td></tr><tr><td>59</td><td>14</td></tr><tr><td>60</td><td>7</td></tr><tr><td>61</td><td>1</td></tr><tr><td>62</td><td>0</td></tr><tr><td>63</td><td>0</td></tr></tbody></table>"
      ]
     },
     "metadata": {},
     "output_type": "display_data"
    }
   ],
   "source": [
    "var dataProcessPipeline = \n",
    "    mlContext.\n",
    "    Transforms.\n",
    "    Conversion.\n",
    "    MapValueToKey(\n",
    "        outputColumnName: \"Label\",  // 出力列名\n",
    "        inputColumnName: \"Number\",  // 入力列名\n",
    "        keyOrdinality: ValueToKeyMappingEstimator.KeyOrdinality.ByValue).\n",
    "    Append(mlContext.Transforms.Concatenate(\"Features\", nameof(InputData.PixelValues)).AppendCacheCheckpoint(mlContext));\n",
    "\n",
    "// public class TransformedData\n",
    "// {\n",
    "//     public float[] Features { get; set; }\n",
    "// }\n",
    "\n",
    "// var processedData = dataProcessPipeline.Fit(trainData).Transform(trainData);\n",
    "// var featuresColumn = mlContext.Data.CreateEnumerable<TransformedData>(processedData, reuseRowObject: false);\n",
    "// display(featuresColumn.First().Features);\n",
    "\n",
    "var trainer = \n",
    "    mlContext.\n",
    "    MulticlassClassification.\n",
    "    Trainers.\n",
    "    SdcaMaximumEntropy(labelColumnName: \"Label\", featureColumnName: \"Features\");\n",
    "\n",
    "var trainingPipeline = \n",
    "    dataProcessPipeline.\n",
    "    Append(trainer).\n",
    "    Append(mlContext.Transforms.Conversion.MapKeyToValue(\"Number\",\"Label\"));"
   ]
  },
  {
   "cell_type": "code",
   "execution_count": 101,
   "metadata": {},
   "outputs": [
    {
     "name": "stdout",
     "output_type": "stream",
     "text": [
      "=============== Training the model ===============\n",
      "===== Evaluating Model's accuracy with Test data =====\n",
      "************************************************************\n",
      "*    Metrics for Microsoft.ML.Trainers.SdcaMaximumEntropyMulticlassTrainer multi-class classification model   \n",
      "*-----------------------------------------------------------\n",
      "    AccuracyMacro = 0.9543, a value between 0 and 1, the closer to 1, the better\n",
      "    AccuracyMicro = 0.9544, a value between 0 and 1, the closer to 1, the better\n",
      "    LogLoss = 0.1806, the closer to 0, the better\n",
      "    LogLoss for class 1 = 0.0785, the closer to 0, the better\n",
      "    LogLoss for class 2 = 0.0504, the closer to 0, the better\n",
      "    LogLoss for class 3 = 0.1554, the closer to 0, the better\n",
      "************************************************************\n"
     ]
    }
   ],
   "source": [
    "Console.WriteLine(\"=============== Training the model ===============\");\n",
    "ITransformer trainedModel = trainingPipeline.Fit(trainData);\n",
    "\n",
    "Console.WriteLine(\"===== Evaluating Model's accuracy with Test data =====\");\n",
    "var predictions = trainedModel.Transform(testData);\n",
    "var metrics = mlContext.MulticlassClassification.Evaluate(data:predictions, labelColumnName:\"Number\", scoreColumnName:\"Score\");\n",
    "\n",
    "public static void PrintMultiClassClassificationMetrics(string name, MulticlassClassificationMetrics metrics)\n",
    "{\n",
    "    Console.WriteLine($\"************************************************************\");\n",
    "    Console.WriteLine($\"*    Metrics for {name} multi-class classification model   \");\n",
    "    Console.WriteLine($\"*-----------------------------------------------------------\");\n",
    "    Console.WriteLine($\"    AccuracyMacro = {metrics.MacroAccuracy:0.####}, a value between 0 and 1, the closer to 1, the better\");\n",
    "    Console.WriteLine($\"    AccuracyMicro = {metrics.MicroAccuracy:0.####}, a value between 0 and 1, the closer to 1, the better\");\n",
    "    Console.WriteLine($\"    LogLoss = {metrics.LogLoss:0.####}, the closer to 0, the better\");\n",
    "    Console.WriteLine($\"    LogLoss for class 1 = {metrics.PerClassLogLoss[0]:0.####}, the closer to 0, the better\");\n",
    "    Console.WriteLine($\"    LogLoss for class 2 = {metrics.PerClassLogLoss[1]:0.####}, the closer to 0, the better\");\n",
    "    Console.WriteLine($\"    LogLoss for class 3 = {metrics.PerClassLogLoss[2]:0.####}, the closer to 0, the better\");\n",
    "    Console.WriteLine($\"************************************************************\");\n",
    "}\n",
    "\n",
    "PrintMultiClassClassificationMetrics(trainer.ToString(), metrics);"
   ]
  },
  {
   "cell_type": "code",
   "execution_count": 89,
   "metadata": {},
   "outputs": [
    {
     "data": {
      "text/html": [
       "<table><thead><tr><th><i>index</i></th><th>value</th></tr></thead><tbody><tr><td>0</td><td>0.1</td></tr><tr><td>1</td><td>1.1</td></tr><tr><td>2</td><td>2.1</td></tr><tr><td>3</td><td>3.1</td></tr><tr><td>4</td><td>1</td></tr></tbody></table>"
      ]
     },
     "metadata": {},
     "output_type": "display_data"
    },
    {
     "data": {
      "text/html": [
       "<table><thead><tr><th><i>index</i></th><th>value</th></tr></thead><tbody><tr><td>0</td><td>0.2</td></tr><tr><td>1</td><td>1.2</td></tr><tr><td>2</td><td>2.2</td></tr><tr><td>3</td><td>3.2</td></tr><tr><td>4</td><td>2</td></tr></tbody></table>"
      ]
     },
     "metadata": {},
     "output_type": "display_data"
    }
   ],
   "source": [
    "private class InputData\n",
    "{\n",
    "    public float Feature1;\n",
    "    [VectorType(3)]\n",
    "    public float[] Feature2;\n",
    "    public int Feature3;\n",
    "}\n",
    "private class TransformedData\n",
    "{\n",
    "    public float[] Features { get; set; }\n",
    "}\n",
    "\n",
    "var mlContext = new MLContext();\n",
    "var samples = new List<InputData>()\n",
    "{\n",
    "    new InputData(){ Feature1 = 0.1f, Feature2 = new[]{ 1.1f, 2.1f,3.1f }, Feature3 = 1 },\n",
    "    new InputData(){ Feature1 = 0.2f, Feature2 = new[]{ 1.2f, 2.2f,3.2f }, Feature3 = 2 },\n",
    "};\n",
    "\n",
    "var dataview = mlContext.Data.LoadFromEnumerable(samples);\n",
    "var pipeline = \n",
    "    mlContext.\n",
    "    Transforms.\n",
    "    Conversion.\n",
    "    ConvertType(\"Feature3\", outputKind: DataKind.Single).\n",
    "    Append(mlContext.Transforms.Concatenate(\"Features\", new[]{ \"Feature1\", \"Feature2\", \"Feature3\" }));\n",
    "\n",
    "var transformedData = pipeline.Fit(dataview).Transform(dataview);\n",
    "var featuresColumn = mlContext.Data.CreateEnumerable<TransformedData>(transformedData, reuseRowObject: false);\n",
    "\n",
    "foreach (var featureRow in featuresColumn)\n",
    "{\n",
    "    display(featureRow.Features);\n",
    "    //Console.WriteLine(string.Join(\" \", featureRow.Features));\n",
    "}"
   ]
  },
  {
   "cell_type": "code",
   "execution_count": null,
   "metadata": {},
   "outputs": [],
   "source": []
  }
 ],
 "metadata": {
  "kernelspec": {
   "display_name": ".NET (C#)",
   "language": "C#",
   "name": ".net-csharp"
  },
  "language_info": {
   "file_extension": ".cs",
   "mimetype": "text/x-csharp",
   "name": "C#",
   "pygments_lexer": "csharp",
   "version": "8.0"
  }
 },
 "nbformat": 4,
 "nbformat_minor": 4
}

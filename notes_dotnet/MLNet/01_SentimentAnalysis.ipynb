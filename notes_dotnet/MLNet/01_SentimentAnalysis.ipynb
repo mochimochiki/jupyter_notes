{
 "cells": [
  {
   "cell_type": "markdown",
   "metadata": {},
   "source": [
    "# .Net機械学習チュートリアル - 感情分析\n",
    "\n",
    "[MSDNのチュートリアル](https://docs.microsoft.com/ja-jp/dotnet/machine-learning/tutorials/sentiment-analysis)に従って。まずはMicrosoft.MLをnugetで取得"
   ]
  },
  {
   "cell_type": "code",
   "execution_count": 1,
   "metadata": {},
   "outputs": [
    {
     "data": {
      "text/html": [
       "Installing package Microsoft.ML, version 1.4.0.....done!"
      ]
     },
     "metadata": {},
     "output_type": "display_data"
    },
    {
     "data": {
      "text/html": [
       "Successfully added reference to package Microsoft.ML, version 1.4.0"
      ]
     },
     "metadata": {},
     "output_type": "display_data"
    },
    {
     "data": {
      "text/html": [
       "Installing package Microsoft.ML.FastTree....done!"
      ]
     },
     "metadata": {},
     "output_type": "display_data"
    },
    {
     "data": {
      "text/html": [
       "Successfully added reference to package Microsoft.ML.FastTree, version 1.0.0"
      ]
     },
     "metadata": {},
     "output_type": "display_data"
    }
   ],
   "source": [
    "#r \"nuget:Microsoft.ML,1.4.0\"\n",
    "#r \"nuget:Microsoft.ML.FastTree\""
   ]
  },
  {
   "cell_type": "code",
   "execution_count": 2,
   "metadata": {},
   "outputs": [],
   "source": [
    "using System;\n",
    "using System.Collections.Generic;\n",
    "using System.IO;\n",
    "using System.Linq;\n",
    "using Microsoft.ML;\n",
    "using Microsoft.ML.Data;\n",
    "using static Microsoft.ML.DataOperationsCatalog;\n",
    "using Microsoft.ML.Trainers;\n",
    "using Microsoft.ML.Transforms.Text;"
   ]
  },
  {
   "cell_type": "markdown",
   "metadata": {},
   "source": [
    "datapathは`static readonly`で用意しておく"
   ]
  },
  {
   "cell_type": "code",
   "execution_count": 3,
   "metadata": {},
   "outputs": [
    {
     "data": {
      "text/plain": [
       "/home/jovyan/notebooks/notes_dotnet/MLNet/data/yelp_labelled.txt"
      ]
     },
     "metadata": {},
     "output_type": "display_data"
    }
   ],
   "source": [
    "static readonly string _dataPath = Path.Combine(Environment.CurrentDirectory, \"data\", \"yelp_labelled.txt\");\n",
    "display(_dataPath);"
   ]
  },
  {
   "cell_type": "markdown",
   "metadata": {},
   "source": [
    "## クラスの準備"
   ]
  },
  {
   "cell_type": "code",
   "execution_count": 4,
   "metadata": {},
   "outputs": [
    {
     "name": "stdout",
     "output_type": "stream",
     "text": [
      "[SentimentData]\n"
     ]
    },
    {
     "data": {
      "text/html": [
       "<table><thead><tr><th>SentimentText</th><th>Sentiment</th></tr></thead><tbody><tr><td>&lt;null&gt;</td><td>False</td></tr></tbody></table>"
      ]
     },
     "metadata": {},
     "output_type": "display_data"
    },
    {
     "name": "stdout",
     "output_type": "stream",
     "text": [
      "[SentimentPreciction]\n"
     ]
    },
    {
     "data": {
      "text/html": [
       "<table><thead><tr><th>Prediction</th><th>Probability</th><th>Score</th><th>SentimentText</th><th>Sentiment</th></tr></thead><tbody><tr><td>False</td><td>0</td><td>0</td><td>&lt;null&gt;</td><td>False</td></tr></tbody></table>"
      ]
     },
     "metadata": {},
     "output_type": "display_data"
    }
   ],
   "source": [
    "public class SentimentData\n",
    "{\n",
    "    [LoadColumn(0)]\n",
    "    public string SentimentText;\n",
    "\n",
    "    [LoadColumn(1), ColumnName(\"Label\")]\n",
    "    public bool Sentiment;\n",
    "}\n",
    "\n",
    "public class SentimentPrediction : SentimentData\n",
    "{\n",
    "\n",
    "    [ColumnName(\"PredictedLabel\")]\n",
    "    public bool Prediction { get; set; }\n",
    "\n",
    "    public float Probability { get; set; }\n",
    "\n",
    "    public float Score { get; set; }\n",
    "}\n",
    "\n",
    "// display\n",
    "Console.WriteLine(\"[SentimentData]\");\n",
    "display(new SentimentData());\n",
    "Console.WriteLine(\"[SentimentPreciction]\");\n",
    "display(new SentimentPrediction());"
   ]
  },
  {
   "cell_type": "markdown",
   "metadata": {},
   "source": [
    "## データを読み込む"
   ]
  },
  {
   "cell_type": "code",
   "execution_count": 5,
   "metadata": {},
   "outputs": [],
   "source": [
    "var mlContext = new MLContext();\n",
    "\n",
    "// データを読み込む\n",
    "IDataView dataView = mlContext.Data.LoadFromTextFile<SentimentData>(_dataPath, hasHeader: false);\n",
    "// TrainTestSplitで  Train:Test = 0.2:0.8 とする\n",
    "var splitDataView = mlContext.Data.TrainTestSplit(dataView, testFraction: 0.2);"
   ]
  },
  {
   "cell_type": "markdown",
   "metadata": {},
   "source": [
    "## モデルの構築とトレーニング"
   ]
  },
  {
   "cell_type": "code",
   "execution_count": 6,
   "metadata": {},
   "outputs": [
    {
     "data": {
      "text/plain": [
       "Wall time: 1838.9042000000002ms"
      ]
     },
     "metadata": {},
     "output_type": "display_data"
    }
   ],
   "source": [
    "%%time\n",
    "\n",
    "var estimator = \n",
    "    mlContext.Transforms.Text\n",
    "      // SentimentText列をFeaturizeして数値列化し、Features列とする\n",
    "      .FeaturizeText(outputColumnName: \"Features\", inputColumnName: nameof(SentimentData.SentimentText))\n",
    "      // SdcaLogisticRegression で分類\n",
    "      .Append(mlContext.BinaryClassification.Trainers.SdcaLogisticRegression(labelColumnName: \"Label\", featureColumnName: \"Features\"));\n",
    "    \n",
    "\n",
    "var splitTrainSet = splitDataView.TrainSet;\n",
    "var model = estimator.Fit(splitTrainSet); // 学習実行"
   ]
  },
  {
   "cell_type": "code",
   "execution_count": 7,
   "metadata": {},
   "outputs": [
    {
     "name": "stdout",
     "output_type": "stream",
     "text": [
      "=============== Evaluating Model accuracy with Test data===============\n",
      "Model quality metrics evaluation\n",
      "--------------------------------\n",
      "Accuracy: 84.49%\n",
      "Auc: 90.51%\n",
      "F1Score: 84.49%\n",
      "=============== End of model evaluation ===============\n"
     ]
    }
   ],
   "source": [
    "var splitTestSet = splitDataView.TestSet;\n",
    "IDataView predictions = model.Transform(splitTestSet);\n",
    "CalibratedBinaryClassificationMetrics metrics = mlContext.BinaryClassification.Evaluate(predictions, \"Label\");\n",
    "\n",
    "Console.WriteLine(\"=============== Evaluating Model accuracy with Test data===============\");\n",
    "Console.WriteLine(\"Model quality metrics evaluation\");\n",
    "Console.WriteLine(\"--------------------------------\");\n",
    "Console.WriteLine($\"Accuracy: {metrics.Accuracy:P2}\");\n",
    "Console.WriteLine($\"Auc: {metrics.AreaUnderRocCurve:P2}\");\n",
    "Console.WriteLine($\"F1Score: {metrics.F1Score:P2}\");\n",
    "Console.WriteLine(\"=============== End of model evaluation ===============\");"
   ]
  },
  {
   "cell_type": "markdown",
   "metadata": {},
   "source": [
    "## テストデータを予測する"
   ]
  },
  {
   "cell_type": "code",
   "execution_count": 8,
   "metadata": {},
   "outputs": [
    {
     "data": {
      "text/html": [
       "<table><thead><tr><th>Prediction</th><th>Probability</th><th>Score</th><th>SentimentText</th><th>Sentiment</th></tr></thead><tbody><tr><td>False</td><td>0.09706937</td><td>-2.2302198</td><td>This was a very bad steak</td><td>False</td></tr></tbody></table>"
      ]
     },
     "metadata": {},
     "output_type": "display_data"
    }
   ],
   "source": [
    "PredictionEngine<SentimentData, SentimentPrediction> predictionFunction = mlContext.Model.CreatePredictionEngine<SentimentData, SentimentPrediction>(model);\n",
    "SentimentData sampleStatement = new SentimentData{SentimentText = \"This was a very bad steak\"};    \n",
    "var resultPrediction = predictionFunction.Predict(sampleStatement);\n",
    "\n",
    "display(resultPrediction);"
   ]
  },
  {
   "cell_type": "markdown",
   "metadata": {},
   "source": [
    "## バッチ予測"
   ]
  },
  {
   "cell_type": "code",
   "execution_count": 9,
   "metadata": {},
   "outputs": [
    {
     "data": {
      "text/html": [
       "<table><thead><tr><th><i>index</i></th><th>Prediction</th><th>Probability</th><th>Score</th><th>SentimentText</th><th>Sentiment</th></tr></thead><tbody><tr><td>0</td><td>False</td><td>0.12665626</td><td>-1.9308524</td><td>This was a horrible meal</td><td>False</td></tr><tr><td>1</td><td>True</td><td>0.99589515</td><td>5.4914775</td><td>I love this spaghetti.</td><td>False</td></tr></tbody></table>"
      ]
     },
     "metadata": {},
     "output_type": "display_data"
    }
   ],
   "source": [
    "// Adds some comments to test the trained model's data points.\n",
    "IEnumerable<SentimentData> sentiments = new[]\n",
    "{\n",
    "    new SentimentData{SentimentText = \"This was a horrible meal\"},\n",
    "    new SentimentData{SentimentText = \"I love this spaghetti.\"}\n",
    "};\n",
    "\n",
    "// Load batch comments just created \n",
    "IDataView batchComments = mlContext.Data.LoadFromEnumerable(sentiments);\n",
    "IDataView predictions = model.Transform(batchComments);\n",
    "// Use model to predict whether comment data is Positive (1) or Negative (0).\n",
    "IEnumerable<SentimentPrediction> predictedResults = mlContext.Data.CreateEnumerable<SentimentPrediction>(predictions, reuseRowObject: false);\n",
    "\n",
    "display(predictedResults);"
   ]
  },
  {
   "cell_type": "code",
   "execution_count": null,
   "metadata": {},
   "outputs": [],
   "source": []
  }
 ],
 "metadata": {
  "kernelspec": {
   "display_name": ".NET (C#)",
   "language": "C#",
   "name": ".net-csharp"
  },
  "language_info": {
   "file_extension": ".cs",
   "mimetype": "text/x-csharp",
   "name": "C#",
   "pygments_lexer": "csharp",
   "version": "8.0"
  }
 },
 "nbformat": 4,
 "nbformat_minor": 4
}

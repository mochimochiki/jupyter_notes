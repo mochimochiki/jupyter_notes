{
 "cells": [
  {
   "cell_type": "markdown",
   "metadata": {},
   "source": [
    "# Jupyterショートカット\n",
    "\n",
    "## リンク\n",
    "\n",
    "* [try/Notebook.md at master · dotnet/try](https://github.com/dotnet/try/blob/master/Notebook.md)\n",
    "\n",
    "\n",
    "## キーバインド\n",
    "\n",
    "|キー|内容|\n",
    "|--|--|\n",
    "|Enter|セル編集モードへ|\n",
    "|Esc|セルコマンドモードへ|\n",
    "|Ctrl+s|保存|\n",
    "|Ctrl+z|戻る|\n",
    "|Ctrl+y|やり直し|\n",
    "\n",
    "### 編集モード\n",
    "\n",
    "|キー|内容|\n",
    "|--|--|\n",
    "|Shift+Enter|セル実行して次へ|\n",
    "|Ctrl+Enter|セル実行|\n",
    "|複数行選択+Tab|インデント増やす|\n",
    "|複数行選択+Shift+Tab|インデント減らす|\n",
    "|Ctrl + /|コメント|\n",
    "\n",
    "### コマンドモード\n",
    "\n",
    "|キー|内容|\n",
    "|--|--|\n",
    "|b|下に挿入|\n",
    "|a|上に挿入|\n",
    "|c|セルコピー|\n",
    "|v|セル貼り付け|\n",
    "|dd|セル削除|\n",
    "\n"
   ]
  },
  {
   "cell_type": "code",
   "execution_count": null,
   "metadata": {},
   "outputs": [],
   "source": []
  }
 ],
 "metadata": {
  "kernelspec": {
   "display_name": ".NET (C#)",
   "language": "C#",
   "name": ".net-csharp"
  },
  "language_info": {
   "file_extension": ".cs",
   "mimetype": "text/x-csharp",
   "name": "C#",
   "pygments_lexer": "csharp",
   "version": "8.0"
  }
 },
 "nbformat": 4,
 "nbformat_minor": 4
}

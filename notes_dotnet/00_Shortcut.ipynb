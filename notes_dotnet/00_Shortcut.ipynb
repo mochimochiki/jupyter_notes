{
 "cells": [
  {
   "cell_type": "markdown",
   "metadata": {},
   "source": [
    "# Jupyterショートカット\n",
    "\n",
    "|キー|内容|\n",
    "|--|--|\n",
    "|Enter|セル編集モード(E)|\n",
    "|Esc|セルコマンドモード(C)|\n",
    "|Shift+Enter(E)|セル実行して次へ|\n",
    "|Ctrl+Enter(E)|セル実行|\n",
    "|b(C)|下に挿入|\n",
    "|a(C)|上に挿入|\n"
   ]
  },
  {
   "cell_type": "code",
   "execution_count": null,
   "metadata": {},
   "outputs": [],
   "source": []
  }
 ],
 "metadata": {
  "kernelspec": {
   "display_name": ".NET (C#)",
   "language": "C#",
   "name": ".net-csharp"
  },
  "language_info": {
   "file_extension": ".cs",
   "mimetype": "text/x-csharp",
   "name": "C#",
   "pygments_lexer": "csharp",
   "version": "8.0"
  }
 },
 "nbformat": 4,
 "nbformat_minor": 4
}
